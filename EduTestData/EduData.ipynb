{
 "cells": [
  {
   "cell_type": "code",
   "execution_count": 32,
   "id": "9d00213c",
   "metadata": {},
   "outputs": [],
   "source": [
    "import pandas as pd"
   ]
  },
  {
   "cell_type": "code",
   "execution_count": 33,
   "id": "f3c49a0a",
   "metadata": {},
   "outputs": [
    {
     "name": "stderr",
     "output_type": "stream",
     "text": [
      "C:\\Users\\pecu6\\AppData\\Local\\Temp\\ipykernel_2184\\1407349073.py:1: DtypeWarning: Columns (16,29,30,31,32,33,34,35,36,37,38,39) have mixed types. Specify dtype option on import or set low_memory=False.\n",
      "  raw = pd.read_csv('edu_bigdata_imp1.csv', encoding='big5')\n"
     ]
    }
   ],
   "source": [
    "raw = pd.read_csv('edu_bigdata_imp1.csv', encoding='big5')"
   ]
  },
  {
   "cell_type": "markdown",
   "id": "11f5fd7c",
   "metadata": {},
   "source": [
    "### 請依據 39 號學生的行為紀錄回答下列問題"
   ]
  },
  {
   "cell_type": "markdown",
   "id": "57133ada",
   "metadata": {},
   "source": [
    "1.1 於dp001平台總共進行幾次不重複的影片瀏覽的學習紀錄? (dp001_review_sn)(dp001_video_item_sn)"
   ]
  },
  {
   "cell_type": "code",
   "execution_count": 34,
   "id": "71709caa",
   "metadata": {},
   "outputs": [],
   "source": [
    "s39 = raw[raw['PseudoID'] == 39]"
   ]
  },
  {
   "cell_type": "code",
   "execution_count": 35,
   "id": "a13dd838",
   "metadata": {},
   "outputs": [],
   "source": [
    "#s39.groupby(['dp001_video_item_sn', 'dp001_review_sn', 'dp001_record_plus_view_time', 'dp001_record_plus_view_action'])['dp001_video_item_sn'].count()"
   ]
  },
  {
   "cell_type": "code",
   "execution_count": 36,
   "id": "badc53d1",
   "metadata": {},
   "outputs": [
    {
     "name": "stdout",
     "output_type": "stream",
     "text": [
      "總共進行 12 次不重複的影片瀏覽的學習紀錄\n"
     ]
    }
   ],
   "source": [
    "#Ans\n",
    "print(\"總共進行\", len(s39.groupby(['dp001_video_item_sn', 'dp001_review_sn'])['dp001_question_sn'].count()) , \"次不重複的影片瀏覽的學習紀錄\")"
   ]
  },
  {
   "cell_type": "markdown",
   "id": "62c631fa",
   "metadata": {},
   "source": [
    "1.2 於dp001平台瀏覽影片時，總共進行幾次進行檢核點作答? (dp001_question_sn)"
   ]
  },
  {
   "cell_type": "code",
   "execution_count": 37,
   "id": "d27361e1",
   "metadata": {},
   "outputs": [
    {
     "data": {
      "text/plain": [
       "dp001_question_sn\n",
       "2232.0    1248\n",
       "2248.0     240\n",
       "2249.0     240\n",
       "Name: dp001_question_sn, dtype: int64"
      ]
     },
     "execution_count": 37,
     "metadata": {},
     "output_type": "execute_result"
    }
   ],
   "source": [
    "s39Ans = s39.groupby(['dp001_question_sn'])['dp001_question_sn'].count()\n",
    "s39Ans"
   ]
  },
  {
   "cell_type": "code",
   "execution_count": 38,
   "id": "d8a7e259",
   "metadata": {},
   "outputs": [
    {
     "name": "stdout",
     "output_type": "stream",
     "text": [
      "總共進行 3 次進行檢核點作答\n"
     ]
    }
   ],
   "source": [
    "print(\"總共進行\", len(s39Ans) , \"次進行檢核點作答\")"
   ]
  },
  {
   "cell_type": "markdown",
   "id": "f71bbe8c",
   "metadata": {},
   "source": [
    "### 請依據 281 號學生的行為紀錄回答下列問題"
   ]
  },
  {
   "cell_type": "code",
   "execution_count": 39,
   "id": "0f2f57ac",
   "metadata": {},
   "outputs": [],
   "source": [
    "s281 = raw[raw['PseudoID'] == 281]"
   ]
  },
  {
   "cell_type": "markdown",
   "id": "f9241d09",
   "metadata": {},
   "source": [
    "2.1 於dp001平台總共瀏覽過哪些影片(dp001_video_item_sn)且對應的能力指標(dp001_indicator)為何?"
   ]
  },
  {
   "cell_type": "code",
   "execution_count": 40,
   "id": "be05ebd6",
   "metadata": {},
   "outputs": [
    {
     "data": {
      "text/plain": [
       "dp001_video_item_sn  dp001_indicator\n",
       "513.0                111-3a-01           44\n",
       "1087.0               5-n-10-S01         544\n",
       "10044.0              111-3a-02           52\n",
       "Name: dp001_video_item_sn, dtype: int64"
      ]
     },
     "execution_count": 40,
     "metadata": {},
     "output_type": "execute_result"
    }
   ],
   "source": [
    "s281Ans = s281.groupby(['dp001_video_item_sn', 'dp001_indicator'])['dp001_video_item_sn'].count()\n",
    "s281Ans"
   ]
  },
  {
   "cell_type": "markdown",
   "id": "0a9757ef",
   "metadata": {},
   "source": [
    "2.2 於dp001平台共有幾次練習題作答紀錄正確率 (dp001_prac_score_rate) 是100?"
   ]
  },
  {
   "cell_type": "code",
   "execution_count": 41,
   "id": "190a0523",
   "metadata": {},
   "outputs": [
    {
     "data": {
      "text/plain": [
       "346"
      ]
     },
     "execution_count": 41,
     "metadata": {},
     "output_type": "execute_result"
    }
   ],
   "source": [
    "s281[s281['dp001_prac_score_rate'] == 100].groupby(['dp001_video_item_sn', 'dp001_indicator'])['dp001_video_item_sn'].count().sum()"
   ]
  },
  {
   "cell_type": "markdown",
   "id": "c1282561",
   "metadata": {},
   "source": [
    "### 請依據 71 號學生的行為紀錄回答下列問題"
   ]
  },
  {
   "cell_type": "code",
   "execution_count": 42,
   "id": "6b8bde09",
   "metadata": {},
   "outputs": [],
   "source": [
    "s71 = raw[raw['PseudoID'] == 71]"
   ]
  },
  {
   "cell_type": "markdown",
   "id": "0ec329a1",
   "metadata": {},
   "source": [
    "3.1 於dp001平台的瀏覽影片時，操作行為名稱為「暫停」的次數為? (dp001_record_plus_view_action)"
   ]
  },
  {
   "cell_type": "code",
   "execution_count": 43,
   "id": "cfdaefc6",
   "metadata": {},
   "outputs": [
    {
     "data": {
      "text/plain": [
       "578"
      ]
     },
     "execution_count": 43,
     "metadata": {},
     "output_type": "execute_result"
    }
   ],
   "source": [
    "s71[s71['dp001_record_plus_view_action'] == 'paused'].groupby(['dp001_video_item_sn', 'dp001_record_plus_view_time'])['dp001_video_item_sn'].count().sum()"
   ]
  },
  {
   "cell_type": "markdown",
   "id": "dd2d4e3e",
   "metadata": {},
   "source": [
    "3.2 分別於哪幾天進入dp001平台? (dp001_review_start_time)(dp001_review_end_time)"
   ]
  },
  {
   "cell_type": "code",
   "execution_count": 44,
   "id": "1f21ba0a",
   "metadata": {},
   "outputs": [
    {
     "data": {
      "text/plain": [
       "dp001_review_start_time  dp001_review_end_time\n",
       "2022/8/19 11:20          2022/8/19 11:23          102\n",
       "2022/8/19 11:41          2022/8/19 11:45          102\n",
       "2022/8/19 11:46          2022/8/19 11:47           85\n",
       "2022/8/19 11:48          2022/8/19 11:50          136\n",
       "2022/8/19 12:17          2022/8/19 12:21          102\n",
       "2022/8/19 12:29          2022/8/19 12:32          102\n",
       "2022/8/19 12:36          2022/8/19 12:42          102\n",
       "2022/8/19 12:47          2022/8/19 12:54           51\n",
       "2022/8/19 12:56          2022/8/19 13:02           51\n",
       "2022/8/19 13:03          2022/8/19 13:07          102\n",
       "2022/8/19 13:08          2022/8/19 13:12          204\n",
       "2022/8/19 13:14          2022/8/19 13:17           68\n",
       "2022/8/21 17:22          2022/8/21 17:25          187\n",
       "2022/9/16 19:35          2022/9/16 19:36           51\n",
       "2022/9/16 19:45          2022/9/16 19:47           51\n",
       "Name: dp001_video_item_sn, dtype: int64"
      ]
     },
     "execution_count": 44,
     "metadata": {},
     "output_type": "execute_result"
    }
   ],
   "source": [
    "s71.groupby(['dp001_review_start_time', 'dp001_review_end_time'])['dp001_video_item_sn'].count()"
   ]
  },
  {
   "cell_type": "markdown",
   "id": "bbb76441",
   "metadata": {},
   "source": [
    "### 請依據全體學生的行為紀錄回答下列問題"
   ]
  },
  {
   "cell_type": "markdown",
   "id": "61b467bf",
   "metadata": {},
   "source": [
    "4.1 請找出在dp001平台中，最多影片瀏覽行為的影片序號 (dp001_review_sn) 及其次數為多少?"
   ]
  },
  {
   "cell_type": "code",
   "execution_count": 45,
   "id": "5d886d55",
   "metadata": {},
   "outputs": [
    {
     "data": {
      "text/plain": [
       "dp001_review_sn\n",
       "11043810.0    12410\n",
       "Name: dp001_review_sn, dtype: int64"
      ]
     },
     "execution_count": 45,
     "metadata": {},
     "output_type": "execute_result"
    }
   ],
   "source": [
    "raw.groupby(['dp001_review_sn'])['dp001_review_sn'].size().nlargest(1)"
   ]
  },
  {
   "cell_type": "markdown",
   "id": "391a0590",
   "metadata": {},
   "source": [
    "4.2 請找出在dp002平台中，操作資源的知識架構分類中為「十二年國民基本教育類」共有幾筆? (dp002_extensions_alignment)"
   ]
  },
  {
   "cell_type": "code",
   "execution_count": 46,
   "id": "3a3c1e7a",
   "metadata": {},
   "outputs": [],
   "source": [
    "#print(raw['dp002_extensions_alignment'].unique())"
   ]
  },
  {
   "cell_type": "code",
   "execution_count": 47,
   "id": "c1212049",
   "metadata": {},
   "outputs": [
    {
     "data": {
      "text/plain": [
       "dp002_extensions_alignment\n",
       "[\"十二年國民基本教育類\"]    229\n",
       "Name: dp002_extensions_alignment, dtype: int64"
      ]
     },
     "execution_count": 47,
     "metadata": {},
     "output_type": "execute_result"
    }
   ],
   "source": [
    "K12 = raw[raw['dp002_extensions_alignment'] == '[\"十二年國民基本教育類\"]']\n",
    "K12.groupby(['dp002_extensions_alignment'])['dp002_extensions_alignment'].count()"
   ]
  },
  {
   "cell_type": "markdown",
   "id": "57b6c37e",
   "metadata": {},
   "source": [
    "4.3 請找出在dp002平台中，前3個最常發生的操作行為名稱 (dp002_verb_display_zh_TW)"
   ]
  },
  {
   "cell_type": "code",
   "execution_count": 48,
   "id": "4476a878",
   "metadata": {},
   "outputs": [
    {
     "data": {
      "text/plain": [
       "dp002_verb_display_zh_TW\n",
       "查看      126766\n",
       "查詢參考      1564\n",
       "下載         497\n",
       "Name: dp001_review_sn, dtype: int64"
      ]
     },
     "execution_count": 48,
     "metadata": {},
     "output_type": "execute_result"
    }
   ],
   "source": [
    "raw.groupby(['dp002_verb_display_zh_TW'])['dp001_review_sn'].size().nlargest(3)"
   ]
  },
  {
   "cell_type": "markdown",
   "id": "b2ac44be",
   "metadata": {},
   "source": [
    "4.4 請找出在dp002平台中，操作資源的知識架構分類中為「校園職業安全」共有幾筆? (dp002_extensions_alignment)"
   ]
  },
  {
   "cell_type": "code",
   "execution_count": 49,
   "id": "1ce54669",
   "metadata": {},
   "outputs": [
    {
     "data": {
      "text/plain": [
       "5375"
      ]
     },
     "execution_count": 49,
     "metadata": {},
     "output_type": "execute_result"
    }
   ],
   "source": [
    "Safe = raw[raw['dp002_extensions_alignment'] == '[\"校園職業安全\"]']\n",
    "Safe.groupby(['dp002_extensions_alignment'])['dp002_extensions_alignment'].count().sum()"
   ]
  }
 ],
 "metadata": {
  "kernelspec": {
   "display_name": "Python 3 (ipykernel)",
   "language": "python",
   "name": "python3"
  },
  "language_info": {
   "codemirror_mode": {
    "name": "ipython",
    "version": 3
   },
   "file_extension": ".py",
   "mimetype": "text/x-python",
   "name": "python",
   "nbconvert_exporter": "python",
   "pygments_lexer": "ipython3",
   "version": "3.9.12"
  }
 },
 "nbformat": 4,
 "nbformat_minor": 5
}
